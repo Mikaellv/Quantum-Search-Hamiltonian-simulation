{
 "cells": [
  {
   "cell_type": "code",
   "execution_count": 121,
   "metadata": {},
   "outputs": [],
   "source": [
    "#Import all needed tools\n",
    "\n",
    "from qiskit import QuantumCircuit, QuantumRegister, ClassicalRegister, Aer\n",
    "import numpy as np\n",
    "from qiskit.compiler import transpile\n",
    "from qiskit.tools.visualization import plot_histogram\n",
    "from qiskit.circuit.library import MCXGate\n"
   ]
  },
  {
   "cell_type": "code",
   "execution_count": 122,
   "metadata": {},
   "outputs": [
    {
     "data": {
      "text/plain": [
       "<qiskit.circuit.instructionset.InstructionSet at 0x7f7f8c38a8e0>"
      ]
     },
     "execution_count": 122,
     "metadata": {},
     "output_type": "execute_result"
    }
   ],
   "source": [
    "#How many qubits do you want in your search space? \n",
    "k = 5\n",
    "\n",
    "#How many simulation steps in your simulation? \n",
    "n = 7\n",
    "\n",
    "#Create quantum registers for search space and the oracle\n",
    "\n",
    "#Search space\n",
    "register = QuantumRegister(k, name=\"q\")\n",
    "\n",
    "#Oracle workspace\n",
    "ancilla = QuantumRegister(1, name=\"ancilla\") \n",
    "\n",
    "#Classical register to save information from qubits during measurement\n",
    "classical = ClassicalRegister(k, 'Classical bits')\n",
    "\n",
    "\n",
    "# Create a Quantum Circuit acting on the quantum register and add the ancilla\n",
    "\n",
    "circuit = QuantumCircuit(register, ancilla, classical)\n",
    "\n",
    "\n",
    "#We need to create a uniform superposition, because qiskit prepares everything in state 0 and for some reason nothing works without this\n",
    "for i in range(k): \n",
    "    circuit.h(i)\n",
    "\n",
    "#Barrier creates clearer visualization of circuit\n",
    "circuit.barrier()"
   ]
  },
  {
   "cell_type": "code",
   "execution_count": 123,
   "metadata": {},
   "outputs": [
    {
     "name": "stdout",
     "output_type": "stream",
     "text": [
      "[0, 1, 2, 3, 4, QuantumRegister(1, 'ancilla')]\n"
     ]
    },
    {
     "data": {
      "text/html": [
       "<pre style=\"word-wrap: normal;white-space: pre;background: #fff0;line-height: 1.1;font-family: &quot;Courier New&quot;,Courier,monospace\">                  ┌───┐ ░                          ░ ┌───┐┌───┐     ┌───┐ ░                ░ ┌───┐     ┌───┐┌───┐ ░                          ░ ┌───┐┌───┐     ┌───┐ ░                ░ ┌───┐     ┌───┐┌───┐ ░                          ░ ┌───┐┌───┐     ┌───┐ ░                ░ ┌───┐     ┌───┐┌───┐ ░                          ░ ┌───┐┌───┐     ┌───┐ ░                ░ ┌───┐     ┌───┐┌───┐ ░                          ░ ┌───┐┌───┐     ┌───┐ ░                ░ ┌───┐     ┌───┐┌───┐ ░                          ░ ┌───┐┌───┐     ┌───┐ ░                ░ ┌───┐     ┌───┐┌───┐ ░                          ░ ┌───┐┌───┐     ┌───┐ ░                ░ ┌───┐     ┌───┐┌───┐ ░ ┌─┐            \n",
       "             q_0: ┤ H ├─░───■──────────────────■───░─┤ H ├┤ X ├──■──┤ X ├─░────────────────░─┤ X ├──■──┤ X ├┤ H ├─░───■──────────────────■───░─┤ H ├┤ X ├──■──┤ X ├─░────────────────░─┤ X ├──■──┤ X ├┤ H ├─░───■──────────────────■───░─┤ H ├┤ X ├──■──┤ X ├─░────────────────░─┤ X ├──■──┤ X ├┤ H ├─░───■──────────────────■───░─┤ H ├┤ X ├──■──┤ X ├─░────────────────░─┤ X ├──■──┤ X ├┤ H ├─░───■──────────────────■───░─┤ H ├┤ X ├──■──┤ X ├─░────────────────░─┤ X ├──■──┤ X ├┤ H ├─░───■──────────────────■───░─┤ H ├┤ X ├──■──┤ X ├─░────────────────░─┤ X ├──■──┤ X ├┤ H ├─░───■──────────────────■───░─┤ H ├┤ X ├──■──┤ X ├─░────────────────░─┤ X ├──■──┤ X ├┤ H ├─░─┤M├────────────\n",
       "                  ├───┤ ░   │                  │   ░ ├───┤├───┤  │  ├───┤ ░                ░ ├───┤  │  ├───┤├───┤ ░   │                  │   ░ ├───┤├───┤  │  ├───┤ ░                ░ ├───┤  │  ├───┤├───┤ ░   │                  │   ░ ├───┤├───┤  │  ├───┤ ░                ░ ├───┤  │  ├───┤├───┤ ░   │                  │   ░ ├───┤├───┤  │  ├───┤ ░                ░ ├───┤  │  ├───┤├───┤ ░   │                  │   ░ ├───┤├───┤  │  ├───┤ ░                ░ ├───┤  │  ├───┤├───┤ ░   │                  │   ░ ├───┤├───┤  │  ├───┤ ░                ░ ├───┤  │  ├───┤├───┤ ░   │                  │   ░ ├───┤├───┤  │  ├───┤ ░                ░ ├───┤  │  ├───┤├───┤ ░ └╥┘┌─┐         \n",
       "             q_1: ┤ H ├─░───■──────────────────■───░─┤ H ├┤ X ├──■──┤ X ├─░────────────────░─┤ X ├──■──┤ X ├┤ H ├─░───■──────────────────■───░─┤ H ├┤ X ├──■──┤ X ├─░────────────────░─┤ X ├──■──┤ X ├┤ H ├─░───■──────────────────■───░─┤ H ├┤ X ├──■──┤ X ├─░────────────────░─┤ X ├──■──┤ X ├┤ H ├─░───■──────────────────■───░─┤ H ├┤ X ├──■──┤ X ├─░────────────────░─┤ X ├──■──┤ X ├┤ H ├─░───■──────────────────■───░─┤ H ├┤ X ├──■──┤ X ├─░────────────────░─┤ X ├──■──┤ X ├┤ H ├─░───■──────────────────■───░─┤ H ├┤ X ├──■──┤ X ├─░────────────────░─┤ X ├──■──┤ X ├┤ H ├─░───■──────────────────■───░─┤ H ├┤ X ├──■──┤ X ├─░────────────────░─┤ X ├──■──┤ X ├┤ H ├─░──╫─┤M├─────────\n",
       "                  ├───┤ ░   │                  │   ░ ├───┤├───┤  │  ├───┤ ░                ░ ├───┤  │  ├───┤├───┤ ░   │                  │   ░ ├───┤├───┤  │  ├───┤ ░                ░ ├───┤  │  ├───┤├───┤ ░   │                  │   ░ ├───┤├───┤  │  ├───┤ ░                ░ ├───┤  │  ├───┤├───┤ ░   │                  │   ░ ├───┤├───┤  │  ├───┤ ░                ░ ├───┤  │  ├───┤├───┤ ░   │                  │   ░ ├───┤├───┤  │  ├───┤ ░                ░ ├───┤  │  ├───┤├───┤ ░   │                  │   ░ ├───┤├───┤  │  ├───┤ ░                ░ ├───┤  │  ├───┤├───┤ ░   │                  │   ░ ├───┤├───┤  │  ├───┤ ░                ░ ├───┤  │  ├───┤├───┤ ░  ║ └╥┘┌─┐      \n",
       "             q_2: ┤ H ├─░───■──────────────────■───░─┤ H ├┤ X ├──■──┤ X ├─░────────────────░─┤ X ├──■──┤ X ├┤ H ├─░───■──────────────────■───░─┤ H ├┤ X ├──■──┤ X ├─░────────────────░─┤ X ├──■──┤ X ├┤ H ├─░───■──────────────────■───░─┤ H ├┤ X ├──■──┤ X ├─░────────────────░─┤ X ├──■──┤ X ├┤ H ├─░───■──────────────────■───░─┤ H ├┤ X ├──■──┤ X ├─░────────────────░─┤ X ├──■──┤ X ├┤ H ├─░───■──────────────────■───░─┤ H ├┤ X ├──■──┤ X ├─░────────────────░─┤ X ├──■──┤ X ├┤ H ├─░───■──────────────────■───░─┤ H ├┤ X ├──■──┤ X ├─░────────────────░─┤ X ├──■──┤ X ├┤ H ├─░───■──────────────────■───░─┤ H ├┤ X ├──■──┤ X ├─░────────────────░─┤ X ├──■──┤ X ├┤ H ├─░──╫──╫─┤M├──────\n",
       "                  ├───┤ ░   │                  │   ░ ├───┤├───┤  │  ├───┤ ░                ░ ├───┤  │  ├───┤├───┤ ░   │                  │   ░ ├───┤├───┤  │  ├───┤ ░                ░ ├───┤  │  ├───┤├───┤ ░   │                  │   ░ ├───┤├───┤  │  ├───┤ ░                ░ ├───┤  │  ├───┤├───┤ ░   │                  │   ░ ├───┤├───┤  │  ├───┤ ░                ░ ├───┤  │  ├───┤├───┤ ░   │                  │   ░ ├───┤├───┤  │  ├───┤ ░                ░ ├───┤  │  ├───┤├───┤ ░   │                  │   ░ ├───┤├───┤  │  ├───┤ ░                ░ ├───┤  │  ├───┤├───┤ ░   │                  │   ░ ├───┤├───┤  │  ├───┤ ░                ░ ├───┤  │  ├───┤├───┤ ░  ║  ║ └╥┘┌─┐   \n",
       "             q_3: ┤ H ├─░───■──────────────────■───░─┤ H ├┤ X ├──■──┤ X ├─░────────────────░─┤ X ├──■──┤ X ├┤ H ├─░───■──────────────────■───░─┤ H ├┤ X ├──■──┤ X ├─░────────────────░─┤ X ├──■──┤ X ├┤ H ├─░───■──────────────────■───░─┤ H ├┤ X ├──■──┤ X ├─░────────────────░─┤ X ├──■──┤ X ├┤ H ├─░───■──────────────────■───░─┤ H ├┤ X ├──■──┤ X ├─░────────────────░─┤ X ├──■──┤ X ├┤ H ├─░───■──────────────────■───░─┤ H ├┤ X ├──■──┤ X ├─░────────────────░─┤ X ├──■──┤ X ├┤ H ├─░───■──────────────────■───░─┤ H ├┤ X ├──■──┤ X ├─░────────────────░─┤ X ├──■──┤ X ├┤ H ├─░───■──────────────────■───░─┤ H ├┤ X ├──■──┤ X ├─░────────────────░─┤ X ├──■──┤ X ├┤ H ├─░──╫──╫──╫─┤M├───\n",
       "                  ├───┤ ░   │                  │   ░ ├───┤├───┤  │  ├───┤ ░                ░ ├───┤  │  ├───┤├───┤ ░   │                  │   ░ ├───┤├───┤  │  ├───┤ ░                ░ ├───┤  │  ├───┤├───┤ ░   │                  │   ░ ├───┤├───┤  │  ├───┤ ░                ░ ├───┤  │  ├───┤├───┤ ░   │                  │   ░ ├───┤├───┤  │  ├───┤ ░                ░ ├───┤  │  ├───┤├───┤ ░   │                  │   ░ ├───┤├───┤  │  ├───┤ ░                ░ ├───┤  │  ├───┤├───┤ ░   │                  │   ░ ├───┤├───┤  │  ├───┤ ░                ░ ├───┤  │  ├───┤├───┤ ░   │                  │   ░ ├───┤├───┤  │  ├───┤ ░                ░ ├───┤  │  ├───┤├───┤ ░  ║  ║  ║ └╥┘┌─┐\n",
       "             q_4: ┤ H ├─░───■──────────────────■───░─┤ H ├┤ X ├──■──┤ X ├─░────────────────░─┤ X ├──■──┤ X ├┤ H ├─░───■──────────────────■───░─┤ H ├┤ X ├──■──┤ X ├─░────────────────░─┤ X ├──■──┤ X ├┤ H ├─░───■──────────────────■───░─┤ H ├┤ X ├──■──┤ X ├─░────────────────░─┤ X ├──■──┤ X ├┤ H ├─░───■──────────────────■───░─┤ H ├┤ X ├──■──┤ X ├─░────────────────░─┤ X ├──■──┤ X ├┤ H ├─░───■──────────────────■───░─┤ H ├┤ X ├──■──┤ X ├─░────────────────░─┤ X ├──■──┤ X ├┤ H ├─░───■──────────────────■───░─┤ H ├┤ X ├──■──┤ X ├─░────────────────░─┤ X ├──■──┤ X ├┤ H ├─░───■──────────────────■───░─┤ H ├┤ X ├──■──┤ X ├─░────────────────░─┤ X ├──■──┤ X ├┤ H ├─░──╫──╫──╫──╫─┤M├\n",
       "                  └───┘ ░ ┌─┴─┐┌────────────┐┌─┴─┐ ░ └───┘└───┘┌─┴─┐└───┘ ░ ┌────────────┐ ░ └───┘┌─┴─┐└───┘└───┘ ░ ┌─┴─┐┌────────────┐┌─┴─┐ ░ └───┘└───┘┌─┴─┐└───┘ ░ ┌────────────┐ ░ └───┘┌─┴─┐└───┘└───┘ ░ ┌─┴─┐┌────────────┐┌─┴─┐ ░ └───┘└───┘┌─┴─┐└───┘ ░ ┌────────────┐ ░ └───┘┌─┴─┐└───┘└───┘ ░ ┌─┴─┐┌────────────┐┌─┴─┐ ░ └───┘└───┘┌─┴─┐└───┘ ░ ┌────────────┐ ░ └───┘┌─┴─┐└───┘└───┘ ░ ┌─┴─┐┌────────────┐┌─┴─┐ ░ └───┘└───┘┌─┴─┐└───┘ ░ ┌────────────┐ ░ └───┘┌─┴─┐└───┘└───┘ ░ ┌─┴─┐┌────────────┐┌─┴─┐ ░ └───┘└───┘┌─┴─┐└───┘ ░ ┌────────────┐ ░ └───┘┌─┴─┐└───┘└───┘ ░ ┌─┴─┐┌────────────┐┌─┴─┐ ░ └───┘└───┘┌─┴─┐└───┘ ░ ┌────────────┐ ░ └───┘┌─┴─┐└───┘└───┘ ░  ║  ║  ║  ║ └╥┘\n",
       "         ancilla: ──────░─┤ X ├┤ P(-1.2694) ├┤ X ├─░───────────┤ X ├──────░─┤ P(-1.2694) ├─░──────┤ X ├───────────░─┤ X ├┤ P(-1.2694) ├┤ X ├─░───────────┤ X ├──────░─┤ P(-1.2694) ├─░──────┤ X ├───────────░─┤ X ├┤ P(-1.2694) ├┤ X ├─░───────────┤ X ├──────░─┤ P(-1.2694) ├─░──────┤ X ├───────────░─┤ X ├┤ P(-1.2694) ├┤ X ├─░───────────┤ X ├──────░─┤ P(-1.2694) ├─░──────┤ X ├───────────░─┤ X ├┤ P(-1.2694) ├┤ X ├─░───────────┤ X ├──────░─┤ P(-1.2694) ├─░──────┤ X ├───────────░─┤ X ├┤ P(-1.2694) ├┤ X ├─░───────────┤ X ├──────░─┤ P(-1.2694) ├─░──────┤ X ├───────────░─┤ X ├┤ P(-1.2694) ├┤ X ├─░───────────┤ X ├──────░─┤ P(-1.2694) ├─░──────┤ X ├───────────░──╫──╫──╫──╫──╫─\n",
       "                        ░ └───┘└────────────┘└───┘ ░           └───┘      ░ └────────────┘ ░      └───┘           ░ └───┘└────────────┘└───┘ ░           └───┘      ░ └────────────┘ ░      └───┘           ░ └───┘└────────────┘└───┘ ░           └───┘      ░ └────────────┘ ░      └───┘           ░ └───┘└────────────┘└───┘ ░           └───┘      ░ └────────────┘ ░      └───┘           ░ └───┘└────────────┘└───┘ ░           └───┘      ░ └────────────┘ ░      └───┘           ░ └───┘└────────────┘└───┘ ░           └───┘      ░ └────────────┘ ░      └───┘           ░ └───┘└────────────┘└───┘ ░           └───┘      ░ └────────────┘ ░      └───┘           ░  ║  ║  ║  ║  ║ \n",
       "Classical bits: 5/═══════════════════════════════════════════════════════════════════════════════════════════════════════════════════════════════════════════════════════════════════════════════════════════════════════════════════════════════════════════════════════════════════════════════════════════════════════════════════════════════════════════════════════════════════════════════════════════════════════════════════════════════════════════════════════════════════════════════════════════════════════════════════════════════════════════════════════════════════════════════════════════════════════════════════════════════════════════════════════════════╩══╩══╩══╩══╩═\n",
       "                                                                                                                                                                                                                                                                                                                                                                                                                                                                                                                                                                                                                                                                                 0  1  2  3  4 </pre>"
      ],
      "text/plain": [
       "                  ┌───┐ ░                          ░ ┌───┐┌───┐     ┌───┐ ░                ░ ┌───┐     ┌───┐┌───┐ ░                          ░ ┌───┐┌───┐     ┌───┐ ░                ░ ┌───┐     ┌───┐┌───┐ ░                          ░ ┌───┐┌───┐     ┌───┐ ░                ░ ┌───┐     ┌───┐┌───┐ ░                          ░ ┌───┐┌───┐     ┌───┐ ░                ░ ┌───┐     ┌───┐┌───┐ ░                          ░ ┌───┐┌───┐     ┌───┐ ░                ░ ┌───┐     ┌───┐┌───┐ ░                          ░ ┌───┐┌───┐     ┌───┐ ░                ░ ┌───┐     ┌───┐┌───┐ ░                          ░ ┌───┐┌───┐     ┌───┐ ░                ░ ┌───┐     ┌───┐┌───┐ ░ ┌─┐            \n",
       "             q_0: ┤ H ├─░───■──────────────────■───░─┤ H ├┤ X ├──■──┤ X ├─░────────────────░─┤ X ├──■──┤ X ├┤ H ├─░───■──────────────────■───░─┤ H ├┤ X ├──■──┤ X ├─░────────────────░─┤ X ├──■──┤ X ├┤ H ├─░───■──────────────────■───░─┤ H ├┤ X ├──■──┤ X ├─░────────────────░─┤ X ├──■──┤ X ├┤ H ├─░───■──────────────────■───░─┤ H ├┤ X ├──■──┤ X ├─░────────────────░─┤ X ├──■──┤ X ├┤ H ├─░───■──────────────────■───░─┤ H ├┤ X ├──■──┤ X ├─░────────────────░─┤ X ├──■──┤ X ├┤ H ├─░───■──────────────────■───░─┤ H ├┤ X ├──■──┤ X ├─░────────────────░─┤ X ├──■──┤ X ├┤ H ├─░───■──────────────────■───░─┤ H ├┤ X ├──■──┤ X ├─░────────────────░─┤ X ├──■──┤ X ├┤ H ├─░─┤M├────────────\n",
       "                  ├───┤ ░   │                  │   ░ ├───┤├───┤  │  ├───┤ ░                ░ ├───┤  │  ├───┤├───┤ ░   │                  │   ░ ├───┤├───┤  │  ├───┤ ░                ░ ├───┤  │  ├───┤├───┤ ░   │                  │   ░ ├───┤├───┤  │  ├───┤ ░                ░ ├───┤  │  ├───┤├───┤ ░   │                  │   ░ ├───┤├───┤  │  ├───┤ ░                ░ ├───┤  │  ├───┤├───┤ ░   │                  │   ░ ├───┤├───┤  │  ├───┤ ░                ░ ├───┤  │  ├───┤├───┤ ░   │                  │   ░ ├───┤├───┤  │  ├───┤ ░                ░ ├───┤  │  ├───┤├───┤ ░   │                  │   ░ ├───┤├───┤  │  ├───┤ ░                ░ ├───┤  │  ├───┤├───┤ ░ └╥┘┌─┐         \n",
       "             q_1: ┤ H ├─░───■──────────────────■───░─┤ H ├┤ X ├──■──┤ X ├─░────────────────░─┤ X ├──■──┤ X ├┤ H ├─░───■──────────────────■───░─┤ H ├┤ X ├──■──┤ X ├─░────────────────░─┤ X ├──■──┤ X ├┤ H ├─░───■──────────────────■───░─┤ H ├┤ X ├──■──┤ X ├─░────────────────░─┤ X ├──■──┤ X ├┤ H ├─░───■──────────────────■───░─┤ H ├┤ X ├──■──┤ X ├─░────────────────░─┤ X ├──■──┤ X ├┤ H ├─░───■──────────────────■───░─┤ H ├┤ X ├──■──┤ X ├─░────────────────░─┤ X ├──■──┤ X ├┤ H ├─░───■──────────────────■───░─┤ H ├┤ X ├──■──┤ X ├─░────────────────░─┤ X ├──■──┤ X ├┤ H ├─░───■──────────────────■───░─┤ H ├┤ X ├──■──┤ X ├─░────────────────░─┤ X ├──■──┤ X ├┤ H ├─░──╫─┤M├─────────\n",
       "                  ├───┤ ░   │                  │   ░ ├───┤├───┤  │  ├───┤ ░                ░ ├───┤  │  ├───┤├───┤ ░   │                  │   ░ ├───┤├───┤  │  ├───┤ ░                ░ ├───┤  │  ├───┤├───┤ ░   │                  │   ░ ├───┤├───┤  │  ├───┤ ░                ░ ├───┤  │  ├───┤├───┤ ░   │                  │   ░ ├───┤├───┤  │  ├───┤ ░                ░ ├───┤  │  ├───┤├───┤ ░   │                  │   ░ ├───┤├───┤  │  ├───┤ ░                ░ ├───┤  │  ├───┤├───┤ ░   │                  │   ░ ├───┤├───┤  │  ├───┤ ░                ░ ├───┤  │  ├───┤├───┤ ░   │                  │   ░ ├───┤├───┤  │  ├───┤ ░                ░ ├───┤  │  ├───┤├───┤ ░  ║ └╥┘┌─┐      \n",
       "             q_2: ┤ H ├─░───■──────────────────■───░─┤ H ├┤ X ├──■──┤ X ├─░────────────────░─┤ X ├──■──┤ X ├┤ H ├─░───■──────────────────■───░─┤ H ├┤ X ├──■──┤ X ├─░────────────────░─┤ X ├──■──┤ X ├┤ H ├─░───■──────────────────■───░─┤ H ├┤ X ├──■──┤ X ├─░────────────────░─┤ X ├──■──┤ X ├┤ H ├─░───■──────────────────■───░─┤ H ├┤ X ├──■──┤ X ├─░────────────────░─┤ X ├──■──┤ X ├┤ H ├─░───■──────────────────■───░─┤ H ├┤ X ├──■──┤ X ├─░────────────────░─┤ X ├──■──┤ X ├┤ H ├─░───■──────────────────■───░─┤ H ├┤ X ├──■──┤ X ├─░────────────────░─┤ X ├──■──┤ X ├┤ H ├─░───■──────────────────■───░─┤ H ├┤ X ├──■──┤ X ├─░────────────────░─┤ X ├──■──┤ X ├┤ H ├─░──╫──╫─┤M├──────\n",
       "                  ├───┤ ░   │                  │   ░ ├───┤├───┤  │  ├───┤ ░                ░ ├───┤  │  ├───┤├───┤ ░   │                  │   ░ ├───┤├───┤  │  ├───┤ ░                ░ ├───┤  │  ├───┤├───┤ ░   │                  │   ░ ├───┤├───┤  │  ├───┤ ░                ░ ├───┤  │  ├───┤├───┤ ░   │                  │   ░ ├───┤├───┤  │  ├───┤ ░                ░ ├───┤  │  ├───┤├───┤ ░   │                  │   ░ ├───┤├───┤  │  ├───┤ ░                ░ ├───┤  │  ├───┤├───┤ ░   │                  │   ░ ├───┤├───┤  │  ├───┤ ░                ░ ├───┤  │  ├───┤├───┤ ░   │                  │   ░ ├───┤├───┤  │  ├───┤ ░                ░ ├───┤  │  ├───┤├───┤ ░  ║  ║ └╥┘┌─┐   \n",
       "             q_3: ┤ H ├─░───■──────────────────■───░─┤ H ├┤ X ├──■──┤ X ├─░────────────────░─┤ X ├──■──┤ X ├┤ H ├─░───■──────────────────■───░─┤ H ├┤ X ├──■──┤ X ├─░────────────────░─┤ X ├──■──┤ X ├┤ H ├─░───■──────────────────■───░─┤ H ├┤ X ├──■──┤ X ├─░────────────────░─┤ X ├──■──┤ X ├┤ H ├─░───■──────────────────■───░─┤ H ├┤ X ├──■──┤ X ├─░────────────────░─┤ X ├──■──┤ X ├┤ H ├─░───■──────────────────■───░─┤ H ├┤ X ├──■──┤ X ├─░────────────────░─┤ X ├──■──┤ X ├┤ H ├─░───■──────────────────■───░─┤ H ├┤ X ├──■──┤ X ├─░────────────────░─┤ X ├──■──┤ X ├┤ H ├─░───■──────────────────■───░─┤ H ├┤ X ├──■──┤ X ├─░────────────────░─┤ X ├──■──┤ X ├┤ H ├─░──╫──╫──╫─┤M├───\n",
       "                  ├───┤ ░   │                  │   ░ ├───┤├───┤  │  ├───┤ ░                ░ ├───┤  │  ├───┤├───┤ ░   │                  │   ░ ├───┤├───┤  │  ├───┤ ░                ░ ├───┤  │  ├───┤├───┤ ░   │                  │   ░ ├───┤├───┤  │  ├───┤ ░                ░ ├───┤  │  ├───┤├───┤ ░   │                  │   ░ ├───┤├───┤  │  ├───┤ ░                ░ ├───┤  │  ├───┤├───┤ ░   │                  │   ░ ├───┤├───┤  │  ├───┤ ░                ░ ├───┤  │  ├───┤├───┤ ░   │                  │   ░ ├───┤├───┤  │  ├───┤ ░                ░ ├───┤  │  ├───┤├───┤ ░   │                  │   ░ ├───┤├───┤  │  ├───┤ ░                ░ ├───┤  │  ├───┤├───┤ ░  ║  ║  ║ └╥┘┌─┐\n",
       "             q_4: ┤ H ├─░───■──────────────────■───░─┤ H ├┤ X ├──■──┤ X ├─░────────────────░─┤ X ├──■──┤ X ├┤ H ├─░───■──────────────────■───░─┤ H ├┤ X ├──■──┤ X ├─░────────────────░─┤ X ├──■──┤ X ├┤ H ├─░───■──────────────────■───░─┤ H ├┤ X ├──■──┤ X ├─░────────────────░─┤ X ├──■──┤ X ├┤ H ├─░───■──────────────────■───░─┤ H ├┤ X ├──■──┤ X ├─░────────────────░─┤ X ├──■──┤ X ├┤ H ├─░───■──────────────────■───░─┤ H ├┤ X ├──■──┤ X ├─░────────────────░─┤ X ├──■──┤ X ├┤ H ├─░───■──────────────────■───░─┤ H ├┤ X ├──■──┤ X ├─░────────────────░─┤ X ├──■──┤ X ├┤ H ├─░───■──────────────────■───░─┤ H ├┤ X ├──■──┤ X ├─░────────────────░─┤ X ├──■──┤ X ├┤ H ├─░──╫──╫──╫──╫─┤M├\n",
       "                  └───┘ ░ ┌─┴─┐┌────────────┐┌─┴─┐ ░ └───┘└───┘┌─┴─┐└───┘ ░ ┌────────────┐ ░ └───┘┌─┴─┐└───┘└───┘ ░ ┌─┴─┐┌────────────┐┌─┴─┐ ░ └───┘└───┘┌─┴─┐└───┘ ░ ┌────────────┐ ░ └───┘┌─┴─┐└───┘└───┘ ░ ┌─┴─┐┌────────────┐┌─┴─┐ ░ └───┘└───┘┌─┴─┐└───┘ ░ ┌────────────┐ ░ └───┘┌─┴─┐└───┘└───┘ ░ ┌─┴─┐┌────────────┐┌─┴─┐ ░ └───┘└───┘┌─┴─┐└───┘ ░ ┌────────────┐ ░ └───┘┌─┴─┐└───┘└───┘ ░ ┌─┴─┐┌────────────┐┌─┴─┐ ░ └───┘└───┘┌─┴─┐└───┘ ░ ┌────────────┐ ░ └───┘┌─┴─┐└───┘└───┘ ░ ┌─┴─┐┌────────────┐┌─┴─┐ ░ └───┘└───┘┌─┴─┐└───┘ ░ ┌────────────┐ ░ └───┘┌─┴─┐└───┘└───┘ ░ ┌─┴─┐┌────────────┐┌─┴─┐ ░ └───┘└───┘┌─┴─┐└───┘ ░ ┌────────────┐ ░ └───┘┌─┴─┐└───┘└───┘ ░  ║  ║  ║  ║ └╥┘\n",
       "         ancilla: ──────░─┤ X ├┤ P(-1.2694) ├┤ X ├─░───────────┤ X ├──────░─┤ P(-1.2694) ├─░──────┤ X ├───────────░─┤ X ├┤ P(-1.2694) ├┤ X ├─░───────────┤ X ├──────░─┤ P(-1.2694) ├─░──────┤ X ├───────────░─┤ X ├┤ P(-1.2694) ├┤ X ├─░───────────┤ X ├──────░─┤ P(-1.2694) ├─░──────┤ X ├───────────░─┤ X ├┤ P(-1.2694) ├┤ X ├─░───────────┤ X ├──────░─┤ P(-1.2694) ├─░──────┤ X ├───────────░─┤ X ├┤ P(-1.2694) ├┤ X ├─░───────────┤ X ├──────░─┤ P(-1.2694) ├─░──────┤ X ├───────────░─┤ X ├┤ P(-1.2694) ├┤ X ├─░───────────┤ X ├──────░─┤ P(-1.2694) ├─░──────┤ X ├───────────░─┤ X ├┤ P(-1.2694) ├┤ X ├─░───────────┤ X ├──────░─┤ P(-1.2694) ├─░──────┤ X ├───────────░──╫──╫──╫──╫──╫─\n",
       "                        ░ └───┘└────────────┘└───┘ ░           └───┘      ░ └────────────┘ ░      └───┘           ░ └───┘└────────────┘└───┘ ░           └───┘      ░ └────────────┘ ░      └───┘           ░ └───┘└────────────┘└───┘ ░           └───┘      ░ └────────────┘ ░      └───┘           ░ └───┘└────────────┘└───┘ ░           └───┘      ░ └────────────┘ ░      └───┘           ░ └───┘└────────────┘└───┘ ░           └───┘      ░ └────────────┘ ░      └───┘           ░ └───┘└────────────┘└───┘ ░           └───┘      ░ └────────────┘ ░      └───┘           ░ └───┘└────────────┘└───┘ ░           └───┘      ░ └────────────┘ ░      └───┘           ░  ║  ║  ║  ║  ║ \n",
       "Classical bits: 5/═══════════════════════════════════════════════════════════════════════════════════════════════════════════════════════════════════════════════════════════════════════════════════════════════════════════════════════════════════════════════════════════════════════════════════════════════════════════════════════════════════════════════════════════════════════════════════════════════════════════════════════════════════════════════════════════════════════════════════════════════════════════════════════════════════════════════════════════════════════════════════════════════════════════════════════════════════════════════════════════════╩══╩══╩══╩══╩═\n",
       "                                                                                                                                                                                                                                                                                                                                                                                                                                                                                                                                                                                                                                                                                 0  1  2  3  4 "
      ]
     },
     "execution_count": 123,
     "metadata": {},
     "output_type": "execute_result"
    }
   ],
   "source": [
    "#Multicontrol qubit\n",
    "gate = MCXGate(k)\n",
    "\n",
    "t = np.sqrt(2**k)*np.pi/2\n",
    "a = 1\n",
    "dt = t / n\n",
    "\n",
    "#Create a list of qubit indices: \n",
    "qubits = []\n",
    "for i in range(k): \n",
    "    qubits.append(i)\n",
    "\n",
    "qubits.append(ancilla)\n",
    "\n",
    "print(qubits)\n",
    "for i in range(n): \n",
    "    \n",
    "    #Oracle is the multicontrolled CNOT because the correct answer is 11111.\n",
    "    circuit.append(gate, qubits)\n",
    "\n",
    "    #Phase gate\n",
    "    circuit.p(-a*dt, ancilla)\n",
    "\n",
    "    #Oracle\n",
    "    circuit.append(gate, qubits)\n",
    "\n",
    "\n",
    "    circuit.barrier()\n",
    "    \n",
    "    #Driving hamiltoninan |psi><psi|\n",
    "    for i in range(k): \n",
    "        circuit.h(i)\n",
    "    \n",
    "    for i in range(k): \n",
    "        circuit.x(i)\n",
    "\n",
    "    circuit.append(gate, qubits)\n",
    "    \n",
    "    for i in range(k): \n",
    "        circuit.x(i)\n",
    "    \n",
    "    circuit.barrier()\n",
    "\n",
    "    circuit.p(-a*dt, ancilla)\n",
    "\n",
    "    circuit.barrier()\n",
    "\n",
    "    for i in range(k):\n",
    "        circuit.x(i)\n",
    "\n",
    "    circuit.append(gate, qubits)\n",
    "    \n",
    "    for i in range(k): \n",
    "        circuit.x(i)\n",
    "        \n",
    "    for i in range(k): \n",
    "        circuit.h(i)\n",
    "    \n",
    "    circuit.barrier()\n",
    "\n",
    "circuit.measure(register, classical)\n",
    "circuit.draw(fold=-1)"
   ]
  },
  {
   "cell_type": "code",
   "execution_count": 124,
   "metadata": {},
   "outputs": [
    {
     "data": {
      "image/png": "[encoded data removed]",
      "text/plain": [
       "<Figure size 504x360 with 1 Axes>"
      ]
     },
     "execution_count": 124,
     "metadata": {},
     "output_type": "execute_result"
    }
   ],
   "source": [
    "qasm_simulator = Aer.get_backend('qasm_simulator')\n",
    "transpiled_qc = transpile(circuit, qasm_simulator)\n",
    "result = qasm_simulator.run(transpiled_qc).result()\n",
    "\n",
    "#Define the plot with a name\n",
    "plot_histogram(result.get_counts(), title= f\"{n} simulaatioaskelta\")\n",
    "\n"
   ]
  }
 ],
 "metadata": {
  "kernelspec": {
   "display_name": "Python 3",
   "language": "python",
   "name": "python3"
  },
  "language_info": {
   "codemirror_mode": {
    "name": "ipython",
    "version": 3
   },
   "file_extension": ".py",
   "mimetype": "text/x-python",
   "name": "python",
   "nbconvert_exporter": "python",
   "pygments_lexer": "ipython3",
   "version": "3.8.10"
  },
  "orig_nbformat": 4
 },
 "nbformat": 4,
 "nbformat_minor": 2
}
